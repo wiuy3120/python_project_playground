{
 "cells": [
  {
   "cell_type": "code",
   "execution_count": 2,
   "metadata": {},
   "outputs": [
    {
     "name": "stdout",
     "output_type": "stream",
     "text": [
      "A.date AS `A.date`,\n",
      "A.zalo_ad_id AS `A.zalo_ad_id`,\n",
      "A.ad_id AS `A.ad_id`,\n",
      "A.source_id AS `A.source_id`,\n",
      "A.ad_type AS `A.ad_type`,\n",
      "A.ad_category_id AS `A.ad_category_id`,\n",
      "A.rate_unit_id AS `A.rate_unit_id`,\n",
      "A.is_smartbid AS `A.is_smartbid`,\n",
      "A.ad_brand_id AS `A.ad_brand_id`,\n",
      "A.user_id AS `A.user_id`,\n",
      "A.count_user_paused AS `A.count_user_paused`,\n",
      "A.count_use_ads_checker AS `A.count_use_ads_checker`,\n",
      "A.current_total_days AS `A.current_total_days`,\n",
      "A.updated_total_days AS `A.updated_total_days`,\n",
      "A.ad_associated_revenue AS `A.ad_associated_revenue`,\n",
      "A.ad_associated_impressions AS `A.ad_associated_impressions`,\n",
      "A.ad_associated_clicks AS `A.ad_associated_clicks`,\n",
      "A.ad_associated_conversions AS `A.ad_associated_conversions`,\n"
     ]
    }
   ],
   "source": [
    "cols=[\"date\"\",\n",
    "    \"zalo_ad_id\"\",\n",
    "    \"ad_id\"\",\n",
    "    \"source_id\"\",\n",
    "    \"ad_type\"\",\n",
    "    \"ad_category_id\"\",\n",
    "    \"rate_unit_id\"\",\n",
    "    \"is_smartbid\"\",\n",
    "    \"ad_brand_id\"\",\n",
    "    \"user_id\"\",\n",
    "    \"count_user_paused\"\",\n",
    "    \"count_use_ads_checker\"\",\n",
    "    \"current_total_days\"\",\n",
    "    \"updated_total_days\"\",\n",
    "    \"ad_associated_revenue\"\",\n",
    "    \"ad_associated_impressions\"\",\n",
    "    \"ad_associated_clicks\"\",\n",
    "    \"ad_associated_conversions\"\",]\n",
    "\n",
    "for col in cols:\n",
    "    print(f\"A.{col} AS ``\")"
   ]
  },
  {
   "cell_type": "code",
   "execution_count": 4,
   "metadata": {},
   "outputs": [
    {
     "name": "stdout",
     "output_type": "stream",
     "text": [
      "A.date AS `A.date`,\n",
      "A.year AS `A.year`,\n",
      "A.month AS `A.month`,\n",
      "A.yearweek AS `A.yearweek`,\n",
      "A.week AS `A.week`,\n",
      "A.year_week AS `A.year_week`,\n",
      "A.adtima_id AS `A.adtima_id`,\n",
      "A.za_ad_id AS `A.za_ad_id`,\n",
      "A.advertiser_id AS `A.advertiser_id`,\n",
      "A.brand_name AS `A.brand_name`,\n",
      "A.conversion_name AS `A.conversion_name`,\n",
      "A.impressions AS `A.impressions`,\n",
      "A.clicks AS `A.clicks`,\n",
      "A.conversions AS `A.conversions`,\n",
      "A.total_bidding_revenue AS `A.total_bidding_revenue`,\n",
      "A.zone_id AS `A.zone_id`,\n",
      "A.zone_name AS `A.zone_name`,\n",
      "A.group_zone_name AS `A.group_zone_name`,\n",
      "A.website_name AS `A.website_name`,\n",
      "A.is_optim AS `A.is_optim`,\n",
      "A.category_id AS `A.category_id`,\n",
      "A.child_cat_name AS `A.child_cat_name`,\n",
      "A.parent_cat_name AS `A.parent_cat_name`,\n",
      "A.root_cat_name AS `A.root_cat_name`,\n",
      "A.ad_type_id AS `A.ad_type_id`,\n",
      "A.ad_type_name AS `A.ad_type_name`,\n"
     ]
    }
   ],
   "source": [
    "cols = [\n",
    "    \"date\",\n",
    "    \"year\",\n",
    "    \"month\",\n",
    "    \"yearweek\",\n",
    "    \"week\",\n",
    "    \"year_week\",\n",
    "    \"adtima_id\",\n",
    "    \"za_ad_id\",\n",
    "    \"advertiser_id\",\n",
    "    \"brand_name\",\n",
    "    \"conversion_name\",\n",
    "    \"impressions\",\n",
    "    \"clicks\",\n",
    "    \"conversions\",\n",
    "    \"total_bidding_revenue\",\n",
    "    \"zone_id\",\n",
    "    \"zone_name\",\n",
    "    \"group_zone_name\",\n",
    "    \"website_name\",\n",
    "    \"is_optim\",\n",
    "    \"category_id\",\n",
    "    \"child_cat_name\",\n",
    "    \"parent_cat_name\",\n",
    "    \"root_cat_name\",\n",
    "    \"ad_type_id\",\n",
    "    \"ad_type_name\",\n",
    "]\n",
    "\n",
    "for col in cols:\n",
    "    print(f\"A.{col} AS `A.{col}`,\")"
   ]
  },
  {
   "cell_type": "code",
   "execution_count": null,
   "metadata": {},
   "outputs": [],
   "source": []
  }
 ],
 "metadata": {
  "kernelspec": {
   "display_name": ".venv",
   "language": "python",
   "name": "python3"
  },
  "language_info": {
   "codemirror_mode": {
    "name": "ipython",
    "version": 3
   },
   "file_extension": ".py",
   "mimetype": "text/x-python",
   "name": "python",
   "nbconvert_exporter": "python",
   "pygments_lexer": "ipython3",
   "version": "3.8.10"
  }
 },
 "nbformat": 4,
 "nbformat_minor": 2
}
