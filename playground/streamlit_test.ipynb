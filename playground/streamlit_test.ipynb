{
 "cells": [
  {
   "cell_type": "code",
   "execution_count": 2,
   "metadata": {},
   "outputs": [],
   "source": [
    "import sys"
   ]
  },
  {
   "cell_type": "code",
   "execution_count": 7,
   "metadata": {},
   "outputs": [
    {
     "name": "stdout",
     "output_type": "stream",
     "text": [
      "/home/minhpc2/Projects/python_project_playground/.venv/lib/python3.8/site-packages/jedi/inference/docstring_utils.py\n"
     ]
    }
   ],
   "source": [
    "modules = dict(sys.modules)\n",
    "for name, module in modules.items():\n",
    "    spec = getattr(module, \"__spec__\", None)\n",
    "    if spec is None:\n",
    "        filepath = getattr(module, \"__file__\", None)\n",
    "        if filepath is None:\n",
    "            # Some modules have neither a spec nor a file. But we\n",
    "            # can ignore those since they're not the user-created\n",
    "            # modules we want to watch anyway.\n",
    "            continue\n",
    "    else:\n",
    "        filepath = spec.origin\n",
    "\n",
    "    if \"string_utils\" in str(filepath):\n",
    "        print(filepath)\n",
    "\n",
    "    if \"src/logger\" in str(filepath):\n",
    "        print(filepath)\n",
    "\n",
    "    if \"python_project_playground/python_project_playground\" in str(filepath):\n",
    "        print(filepath)"
   ]
  },
  {
   "cell_type": "code",
   "execution_count": 14,
   "metadata": {},
   "outputs": [
    {
     "data": {
      "text/plain": [
       "environ{'USER': 'minhpc2',\n",
       "        'VSCODE_WSL_EXT_LOCATION': '/mnt/c/Users/LAP13455-local/.vscode/extensions/ms-vscode-remote.remote-wsl-0.88.2',\n",
       "        'SHLVL': '0',\n",
       "        'HOME': '/home/minhpc2',\n",
       "        'WSL_DISTRO_NAME': 'Ubuntu-20.04',\n",
       "        'WAYLAND_DISPLAY': 'wayland-0',\n",
       "        'LOGNAME': 'minhpc2',\n",
       "        'NAME': 'LAP13455',\n",
       "        'WSL_INTEROP': '/run/WSL/3834_interop',\n",
       "        'PULSE_SERVER': 'unix:/mnt/wslg/PulseServer',\n",
       "        '_': '/home/minhpc2/Projects/python_project_playground/.venv/bin/python',\n",
       "        'TERM': 'xterm-color',\n",
       "        'PATH': '/home/minhpc2/Projects/python_project_playground/.venv/bin:/home/minhpc2/.vscode-server/bin/b58957e67ee1e712cebf466b995adf4c5307b2bd/bin/remote-cli:/home/minhpc2/.local/bin:/usr/local/sbin:/usr/local/bin:/usr/sbin:/usr/bin:/sbin:/bin:/usr/games:/usr/local/games:/usr/lib/wsl/lib:/mnt/c/Program Files/Eclipse Adoptium/jdk-11.0.21.9-hotspot/bin:/mnt/c/Program Files/Eclipse Adoptium/jdk-11.0.21.9-hotspot/bin:/mnt/c/WINDOWS/system32:/mnt/c/WINDOWS:/mnt/c/WINDOWS/System32/Wbem:/mnt/c/WINDOWS/System32/WindowsPowerShell/v1.0/:/mnt/c/WINDOWS/System32/OpenSSH/:/mnt/c/Program Files/Git/cmd:/mnt/c/Program Files/Docker/Docker/resources/bin:/mnt/c/Program Files (x86)/Common Files/Oracle/Java/javapath:/mnt/c/Hadoop/bin:/mnt/c/Hadoop/sbin:/mnt/c/Program Files/Eclipse Adoptium/jdk-11.0.21.9-hotspot/bin:/mnt/c/Users/LAP13455-local/AppData/Local/Microsoft/WindowsApps:/mnt/c/Users/LAP13455-local/AppData/Local/Programs/Microsoft VS Code/bin:/mnt/c/Program Files/JetBrains/IntelliJ IDEA Community Edition 2023.3.1/bin:/mnt/c/Program Files/Java/jdk-1.8/bin:/snap/bin:/home/minhpc2/.cache/coursier/arc/https/github.com/adoptium/temurin11-binaries/releases/download/jdk-11.0.21%252B9/OpenJDK11U-jdk_x64_linux_hotspot_11.0.21_9.tar.gz/jdk-11.0.21+9/bin:/home/minhpc2/.local/share/coursier/bin',\n",
       "        'XDG_RUNTIME_DIR': '/mnt/wslg/runtime-dir',\n",
       "        'DISPLAY': ':0',\n",
       "        'LANG': 'C.UTF-8',\n",
       "        'SHELL': '/bin/bash',\n",
       "        'PWD': '/mnt/c/Users/LAP13455-local/AppData/Local/Programs/Microsoft VS Code',\n",
       "        'WSL2_GUI_APPS_ENABLED': '1',\n",
       "        'HOSTTYPE': 'x86_64',\n",
       "        'WSLENV': 'VSCODE_WSL_EXT_LOCATION/up',\n",
       "        'VSCODE_HANDLES_SIGPIPE': 'true',\n",
       "        'JAVA_HOME': '/home/minhpc2/.cache/coursier/arc/https/github.com/adoptium/temurin11-binaries/releases/download/jdk-11.0.21%252B9/OpenJDK11U-jdk_x64_linux_hotspot_11.0.21_9.tar.gz/jdk-11.0.21+9',\n",
       "        'LS_COLORS': 'rs=0:di=01;34:ln=01;36:mh=00:pi=40;33:so=01;35:do=01;35:bd=40;33;01:cd=40;33;01:or=40;31;01:mi=00:su=37;41:sg=30;43:ca=30;41:tw=30;42:ow=34;42:st=37;44:ex=01;32:*.tar=01;31:*.tgz=01;31:*.arc=01;31:*.arj=01;31:*.taz=01;31:*.lha=01;31:*.lz4=01;31:*.lzh=01;31:*.lzma=01;31:*.tlz=01;31:*.txz=01;31:*.tzo=01;31:*.t7z=01;31:*.zip=01;31:*.z=01;31:*.dz=01;31:*.gz=01;31:*.lrz=01;31:*.lz=01;31:*.lzo=01;31:*.xz=01;31:*.zst=01;31:*.tzst=01;31:*.bz2=01;31:*.bz=01;31:*.tbz=01;31:*.tbz2=01;31:*.tz=01;31:*.deb=01;31:*.rpm=01;31:*.jar=01;31:*.war=01;31:*.ear=01;31:*.sar=01;31:*.rar=01;31:*.alz=01;31:*.ace=01;31:*.zoo=01;31:*.cpio=01;31:*.7z=01;31:*.rz=01;31:*.cab=01;31:*.wim=01;31:*.swm=01;31:*.dwm=01;31:*.esd=01;31:*.jpg=01;35:*.jpeg=01;35:*.mjpg=01;35:*.mjpeg=01;35:*.gif=01;35:*.bmp=01;35:*.pbm=01;35:*.pgm=01;35:*.ppm=01;35:*.tga=01;35:*.xbm=01;35:*.xpm=01;35:*.tif=01;35:*.tiff=01;35:*.png=01;35:*.svg=01;35:*.svgz=01;35:*.mng=01;35:*.pcx=01;35:*.mov=01;35:*.mpg=01;35:*.mpeg=01;35:*.m2v=01;35:*.mkv=01;35:*.webm=01;35:*.ogm=01;35:*.mp4=01;35:*.m4v=01;35:*.mp4v=01;35:*.vob=01;35:*.qt=01;35:*.nuv=01;35:*.wmv=01;35:*.asf=01;35:*.rm=01;35:*.rmvb=01;35:*.flc=01;35:*.avi=01;35:*.fli=01;35:*.flv=01;35:*.gl=01;35:*.dl=01;35:*.xcf=01;35:*.xwd=01;35:*.yuv=01;35:*.cgm=01;35:*.emf=01;35:*.ogv=01;35:*.ogx=01;35:*.aac=00;36:*.au=00;36:*.flac=00;36:*.m4a=00;36:*.mid=00;36:*.midi=00;36:*.mka=00;36:*.mp3=00;36:*.mpc=00;36:*.ogg=00;36:*.ra=00;36:*.wav=00;36:*.oga=00;36:*.opus=00;36:*.spx=00;36:*.xspf=00;36:',\n",
       "        'LESSCLOSE': '/usr/bin/lesspipe %s %s',\n",
       "        'LESSOPEN': '| /usr/bin/lesspipe %s',\n",
       "        'XDG_DATA_DIRS': '/usr/local/share:/usr/share:/var/lib/snapd/desktop',\n",
       "        'VSCODE_AMD_ENTRYPOINT': 'vs/workbench/api/node/extensionHostProcess',\n",
       "        'VSCODE_HANDLES_UNCAUGHT_ERRORS': 'true',\n",
       "        'VSCODE_NLS_CONFIG': '{\"locale\":\"en\",\"osLocale\":\"en\",\"availableLanguages\":{}}',\n",
       "        'VSCODE_CWD': '/mnt/c/Users/LAP13455-local/AppData/Local/Programs/Microsoft VS Code',\n",
       "        'ELECTRON_RUN_AS_NODE': '1',\n",
       "        'VSCODE_IPC_HOOK_CLI': '/mnt/wslg/runtime-dir/vscode-ipc-083517ca-2cd2-423d-8a65-7bd9c9e3d395.sock',\n",
       "        'APPLICATION_INSIGHTS_NO_DIAGNOSTIC_CHANNEL': '1',\n",
       "        'VSCODE_L10N_BUNDLE_LOCATION': '',\n",
       "        'PYTHONUNBUFFERED': '1',\n",
       "        'VIRTUAL_ENV': '/home/minhpc2/Projects/python_project_playground/.venv',\n",
       "        'PYTHONIOENCODING': 'utf-8',\n",
       "        'PS1': '(.venv) ',\n",
       "        'PYDEVD_IPYTHON_COMPATIBLE_DEBUGGING': '1',\n",
       "        'PYTHON_FROZEN_MODULES': 'on',\n",
       "        'PYDEVD_USE_FRAME_EVAL': 'NO',\n",
       "        'CLICOLOR': '1',\n",
       "        'FORCE_COLOR': '1',\n",
       "        'CLICOLOR_FORCE': '1',\n",
       "        'PAGER': 'cat',\n",
       "        'GIT_PAGER': 'cat',\n",
       "        'MPLBACKEND': 'module://matplotlib_inline.backend_inline'}"
      ]
     },
     "execution_count": 14,
     "metadata": {},
     "output_type": "execute_result"
    }
   ],
   "source": [
    "import os\n",
    "pythonpath = os.environ.get(\"PYTHONPATH\")\n",
    "os.environ"
   ]
  },
  {
   "cell_type": "code",
   "execution_count": null,
   "metadata": {},
   "outputs": [],
   "source": [
    "sys.e"
   ]
  },
  {
   "cell_type": "code",
   "execution_count": 15,
   "metadata": {},
   "outputs": [],
   "source": [
    "import os\n",
    "\n",
    "os.environ[\"JUPYTER_PLATFORM_DIRS\"] = \"1\""
   ]
  },
  {
   "cell_type": "code",
   "execution_count": 10,
   "metadata": {},
   "outputs": [
    {
     "name": "stdout",
     "output_type": "stream",
     "text": [
      "None\n",
      "None\n",
      "frozen\n",
      "None\n",
      "built-in\n",
      "built-in\n",
      "built-in\n",
      "built-in\n",
      "frozen\n",
      "built-in\n",
      "built-in\n",
      "built-in\n",
      "frozen\n",
      "built-in\n",
      "built-in\n",
      "built-in\n",
      "built-in\n",
      "built-in\n",
      "frozen\n",
      "frozen\n",
      "built-in\n",
      "built-in\n",
      "built-in\n",
      "built-in\n",
      "built-in\n",
      "built-in\n",
      "built-in\n",
      "built-in\n",
      "built-in\n",
      "built-in\n",
      "built-in\n",
      "built-in\n",
      "built-in\n",
      "built-in\n",
      "built-in\n",
      "built-in\n",
      "built-in\n",
      "built-in\n",
      "built-in\n",
      "built-in\n",
      "built-in\n",
      "built-in\n",
      "built-in\n",
      "built-in\n",
      "built-in\n",
      "built-in\n",
      "None\n",
      "built-in\n",
      "built-in\n",
      "built-in\n",
      "built-in\n",
      "built-in\n",
      "built-in\n",
      "built-in\n"
     ]
    }
   ],
   "source": [
    "modules = dict(sys.modules)\n",
    "for name, module in modules.items():\n",
    "    spec = getattr(module, \"__spec__\", None)\n",
    "    if spec is None:\n",
    "        filepath = getattr(module, \"__file__\", None)\n",
    "        if filepath is None:\n",
    "            # Some modules have neither a spec nor a file. But we\n",
    "            # can ignore those since they're not the user-created\n",
    "            # modules we want to watch anyway.\n",
    "            continue\n",
    "    else:\n",
    "        filepath = spec.origin\n",
    "\n",
    "    if \"home/minhpc2/Projects/python_project_playground/.venv/lib/\" not in str(\n",
    "        filepath\n",
    "    ) and \"lib/python3.8\" not in str(filepath):\n",
    "        print(filepath)"
   ]
  },
  {
   "cell_type": "code",
   "execution_count": null,
   "metadata": {},
   "outputs": [],
   "source": []
  }
 ],
 "metadata": {
  "kernelspec": {
   "display_name": ".venv",
   "language": "python",
   "name": "python3"
  },
  "language_info": {
   "codemirror_mode": {
    "name": "ipython",
    "version": 3
   },
   "file_extension": ".py",
   "mimetype": "text/x-python",
   "name": "python",
   "nbconvert_exporter": "python",
   "pygments_lexer": "ipython3",
   "version": "3.8.10"
  }
 },
 "nbformat": 4,
 "nbformat_minor": 2
}
